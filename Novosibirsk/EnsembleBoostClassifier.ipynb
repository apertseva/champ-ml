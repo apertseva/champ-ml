{
 "cells": [
  {
   "cell_type": "markdown",
   "metadata": {},
   "source": [
    "## 1. Загрузка библиотек и данных"
   ]
  },
  {
   "cell_type": "code",
   "execution_count": 1,
   "metadata": {},
   "outputs": [],
   "source": [
    "import pandas as pd # работа с датафреймами\n",
    "import numpy as np # векторная алгебра\n",
    "\n",
    "from scipy import stats # тесты\n",
    "\n",
    "import matplotlib.pyplot as plt # для визуализации\n",
    "import seaborn as sns # тоже для визуализации, надстройка над предыдущим\n",
    "\n",
    "from sklearn import preprocessing  # предобработка данных\n",
    "from sklearn.linear_model import LogisticRegression, LogisticRegressionCV # линейные модели\n",
    "\n",
    "from sklearn.ensemble import RandomForestClassifier # случайный лес\n",
    "\n",
    "# Градиентный бустинг\n",
    "from catboost import CatBoostClassifier \n",
    "from xgboost import XGBClassifier\n",
    "from lightgbm import LGBMClassifier\n",
    "\n",
    "from sklearn.neighbors import KNeighborsClassifier # K-ближайших соседей\n",
    "\n",
    "# Нейросеть для табличных данных\n",
    "from pytorch_tabular import TabularModel\n",
    "from pytorch_tabular.models import CategoryEmbeddingModelConfig\n",
    "from pytorch_tabular.config import DataConfig, OptimizerConfig, TrainerConfig, ExperimentConfig\n",
    "\n",
    "from sklearn.model_selection import GridSearchCV, RepeatedStratifiedKFold, cross_val_score, train_test_split # для кроссвалидация\n",
    "\n",
    "from sklearn.metrics import roc_auc_score, f1_score, recall_score # метрики\n",
    "\n",
    "from sklearn.calibration import CalibratedClassifierCV # для калибровки вероятностей\n",
    "\n",
    "from sklearn.utils.class_weight import compute_class_weight\n",
    "\n",
    "from typing import List\n",
    "\n",
    "pd.set_option('display.max_columns', None) # параметр, настраивающий видимое число столбцов в Юпитер-ноутбуке"
   ]
  },
  {
   "cell_type": "code",
   "execution_count": 2,
   "metadata": {},
   "outputs": [],
   "source": [
    "TRAIN_FILENAME = 'data/train_dataset_train.csv'\n",
    "TEST_FILENAME = 'data/test_dataset_test.csv'"
   ]
  },
  {
   "cell_type": "code",
   "execution_count": 3,
   "metadata": {},
   "outputs": [],
   "source": [
    "train_dataset = pd.read_csv(TRAIN_FILENAME)\n",
    "\n",
    "test_dataset = pd.read_csv(TEST_FILENAME)"
   ]
  },
  {
   "cell_type": "code",
   "execution_count": 4,
   "metadata": {},
   "outputs": [],
   "source": [
    "train_dataset = train_dataset.set_index('id')\n",
    "test_dataset = test_dataset.set_index('id')"
   ]
  },
  {
   "cell_type": "code",
   "execution_count": 5,
   "metadata": {},
   "outputs": [
    {
     "data": {
      "text/plain": [
       "((4222094, 5), (1809469, 4))"
      ]
     },
     "execution_count": 5,
     "metadata": {},
     "output_type": "execute_result"
    }
   ],
   "source": [
    "train_dataset.shape, test_dataset.shape"
   ]
  },
  {
   "cell_type": "markdown",
   "metadata": {},
   "source": [
    "## 2. Исследование данных"
   ]
  },
  {
   "cell_type": "code",
   "execution_count": 6,
   "metadata": {},
   "outputs": [
    {
     "data": {
      "text/html": [
       "<div>\n",
       "<style scoped>\n",
       "    .dataframe tbody tr th:only-of-type {\n",
       "        vertical-align: middle;\n",
       "    }\n",
       "\n",
       "    .dataframe tbody tr th {\n",
       "        vertical-align: top;\n",
       "    }\n",
       "\n",
       "    .dataframe thead th {\n",
       "        text-align: right;\n",
       "    }\n",
       "</style>\n",
       "<table border=\"1\" class=\"dataframe\">\n",
       "  <thead>\n",
       "    <tr style=\"text-align: right;\">\n",
       "      <th></th>\n",
       "      <th>Easting</th>\n",
       "      <th>Northing</th>\n",
       "      <th>Height</th>\n",
       "      <th>Reflectance</th>\n",
       "      <th>Class</th>\n",
       "    </tr>\n",
       "  </thead>\n",
       "  <tbody>\n",
       "    <tr>\n",
       "      <th>count</th>\n",
       "      <td>4.222094e+06</td>\n",
       "      <td>4.222094e+06</td>\n",
       "      <td>4.222094e+06</td>\n",
       "      <td>4.222094e+06</td>\n",
       "      <td>4.222094e+06</td>\n",
       "    </tr>\n",
       "    <tr>\n",
       "      <th>mean</th>\n",
       "      <td>4.317068e+05</td>\n",
       "      <td>6.032308e+06</td>\n",
       "      <td>6.940159e+01</td>\n",
       "      <td>-1.053063e+01</td>\n",
       "      <td>1.155633e+00</td>\n",
       "    </tr>\n",
       "    <tr>\n",
       "      <th>std</th>\n",
       "      <td>2.977279e+01</td>\n",
       "      <td>2.981495e+01</td>\n",
       "      <td>2.269884e+00</td>\n",
       "      <td>4.515277e+00</td>\n",
       "      <td>2.535087e+00</td>\n",
       "    </tr>\n",
       "    <tr>\n",
       "      <th>min</th>\n",
       "      <td>4.316294e+05</td>\n",
       "      <td>6.032232e+06</td>\n",
       "      <td>6.041440e+01</td>\n",
       "      <td>-3.796000e+01</td>\n",
       "      <td>0.000000e+00</td>\n",
       "    </tr>\n",
       "    <tr>\n",
       "      <th>25%</th>\n",
       "      <td>4.316825e+05</td>\n",
       "      <td>6.032284e+06</td>\n",
       "      <td>6.779070e+01</td>\n",
       "      <td>-1.263000e+01</td>\n",
       "      <td>0.000000e+00</td>\n",
       "    </tr>\n",
       "    <tr>\n",
       "      <th>50%</th>\n",
       "      <td>4.317069e+05</td>\n",
       "      <td>6.032307e+06</td>\n",
       "      <td>6.920490e+01</td>\n",
       "      <td>-9.940000e+00</td>\n",
       "      <td>0.000000e+00</td>\n",
       "    </tr>\n",
       "    <tr>\n",
       "      <th>75%</th>\n",
       "      <td>4.317308e+05</td>\n",
       "      <td>6.032332e+06</td>\n",
       "      <td>6.929940e+01</td>\n",
       "      <td>-7.730000e+00</td>\n",
       "      <td>3.000000e+00</td>\n",
       "    </tr>\n",
       "    <tr>\n",
       "      <th>max</th>\n",
       "      <td>4.317812e+05</td>\n",
       "      <td>6.032384e+06</td>\n",
       "      <td>1.337185e+02</td>\n",
       "      <td>4.360000e+00</td>\n",
       "      <td>6.400000e+01</td>\n",
       "    </tr>\n",
       "  </tbody>\n",
       "</table>\n",
       "</div>"
      ],
      "text/plain": [
       "            Easting      Northing        Height   Reflectance         Class\n",
       "count  4.222094e+06  4.222094e+06  4.222094e+06  4.222094e+06  4.222094e+06\n",
       "mean   4.317068e+05  6.032308e+06  6.940159e+01 -1.053063e+01  1.155633e+00\n",
       "std    2.977279e+01  2.981495e+01  2.269884e+00  4.515277e+00  2.535087e+00\n",
       "min    4.316294e+05  6.032232e+06  6.041440e+01 -3.796000e+01  0.000000e+00\n",
       "25%    4.316825e+05  6.032284e+06  6.779070e+01 -1.263000e+01  0.000000e+00\n",
       "50%    4.317069e+05  6.032307e+06  6.920490e+01 -9.940000e+00  0.000000e+00\n",
       "75%    4.317308e+05  6.032332e+06  6.929940e+01 -7.730000e+00  3.000000e+00\n",
       "max    4.317812e+05  6.032384e+06  1.337185e+02  4.360000e+00  6.400000e+01"
      ]
     },
     "execution_count": 6,
     "metadata": {},
     "output_type": "execute_result"
    }
   ],
   "source": [
    "train_dataset.describe()"
   ]
  },
  {
   "cell_type": "code",
   "execution_count": 7,
   "metadata": {},
   "outputs": [
    {
     "data": {
      "text/plain": [
       "Series([], dtype: int64)"
      ]
     },
     "execution_count": 7,
     "metadata": {},
     "output_type": "execute_result"
    }
   ],
   "source": [
    "# Считаем пропущенные значения для обучающей выборки -> таких нет\n",
    "na_count = train_dataset.isna().sum()\n",
    "na_count[na_count > 0]"
   ]
  },
  {
   "cell_type": "code",
   "execution_count": 8,
   "metadata": {},
   "outputs": [
    {
     "data": {
      "text/plain": [
       "Series([], dtype: int64)"
      ]
     },
     "execution_count": 8,
     "metadata": {},
     "output_type": "execute_result"
    }
   ],
   "source": [
    "# Считаем пропущенные значения для тестовой выборки -> таких нет\n",
    "na_count = test_dataset.isna().sum()\n",
    "na_count[na_count > 0]"
   ]
  },
  {
   "cell_type": "markdown",
   "metadata": {},
   "source": [
    "#### Распределение данных"
   ]
  },
  {
   "cell_type": "code",
   "execution_count": 9,
   "metadata": {},
   "outputs": [
    {
     "data": {
      "text/plain": [
       "Text(0.5, 1.0, 'Распределение класса точки')"
      ]
     },
     "execution_count": 9,
     "metadata": {},
     "output_type": "execute_result"
    },
    {
     "data": {
      "image/png": "[encoded data removed]",
      "text/plain": [
       "<Figure size 432x288 with 1 Axes>"
      ]
     },
     "metadata": {
      "needs_background": "light"
     },
     "output_type": "display_data"
    }
   ],
   "source": [
    "sns.countplot(x = \"Class\" , data  = train_dataset).set_title('Распределение класса точки')"
   ]
  },
  {
   "cell_type": "markdown",
   "metadata": {},
   "source": [
    "## Построение обучающей выборки"
   ]
  },
  {
   "cell_type": "code",
   "execution_count": 10,
   "metadata": {},
   "outputs": [
    {
     "data": {
      "text/plain": [
       "0     2731040\n",
       "3     1287816\n",
       "4      103453\n",
       "5       55985\n",
       "1       39384\n",
       "64       4416\n",
       "Name: Class, dtype: int64"
      ]
     },
     "execution_count": 10,
     "metadata": {},
     "output_type": "execute_result"
    }
   ],
   "source": [
    "# Количество экземпляров каждого класса\n",
    "train_dataset['Class'].value_counts() "
   ]
  },
  {
   "cell_type": "code",
   "execution_count": 11,
   "metadata": {},
   "outputs": [],
   "source": [
    "# Балансировка классов - из классов с очень большим числом объектов (0, 3, 4) берем \n",
    "# заранее установленное количество экземпляров (по количеству элементов класса 5)\n",
    "N_SAMPLES = len(train_dataset[train_dataset['Class']==5].index) #55985\n",
    "data_train = pd.concat([train_dataset[train_dataset['Class']==0].sample(n=N_SAMPLES, random_state=1),\n",
    "                       train_dataset[train_dataset['Class']==1],\n",
    "                       train_dataset[train_dataset['Class']==3].sample(n=N_SAMPLES, random_state=1),\n",
    "                       train_dataset[train_dataset['Class']==4].sample(n=N_SAMPLES, random_state=1),\n",
    "                       train_dataset[train_dataset['Class']==5],\n",
    "                       train_dataset[train_dataset['Class']==64]])\n"
   ]
  },
  {
   "cell_type": "code",
   "execution_count": 12,
   "metadata": {},
   "outputs": [
    {
     "data": {
      "text/plain": [
       "(267740, 5)"
      ]
     },
     "execution_count": 12,
     "metadata": {},
     "output_type": "execute_result"
    }
   ],
   "source": [
    "data_train.shape"
   ]
  },
  {
   "cell_type": "code",
   "execution_count": 13,
   "metadata": {},
   "outputs": [
    {
     "data": {
      "text/plain": [
       "5     55985\n",
       "4     55985\n",
       "3     55985\n",
       "0     55985\n",
       "1     39384\n",
       "64     4416\n",
       "Name: Class, dtype: int64"
      ]
     },
     "execution_count": 13,
     "metadata": {},
     "output_type": "execute_result"
    }
   ],
   "source": [
    "data_train['Class'].value_counts() "
   ]
  },
  {
   "cell_type": "code",
   "execution_count": 14,
   "metadata": {},
   "outputs": [],
   "source": [
    "def feature_engineering(df:  pd.DataFrame) ->  pd.DataFrame:\n",
    "    \"\"\"Добавление новых признаков в датафрейм.\"\"\"\n",
    "    \n",
    "    # Добавляем диагонали проекций на плоскости, диагональ параллелепипеда, суммы преокций по X и Y,\n",
    "    # углол между диагональю проекции на XOY и осью X\n",
    "    df['Diagonal_x_y'] = np.sqrt(df['Northing']**2 + df['Easting']**2)\n",
    "    df['Diagonal_y_z'] = np.sqrt(df['Northing']**2 + df['Height']**2)\n",
    "    df['Diagonal_x_z'] = np.sqrt(df['Height']**2 + df['Easting']**2)\n",
    "    df['Diagonal'] = np.sqrt(df['Diagonal_x_y']**2 + df['Height']**2)\n",
    "    df['Easting+Northing'] = df['Easting']+df['Northing'] \n",
    "    df['sqrt(Easting)+sqrt(Northing)'] = np.sqrt(df['Easting']) + np.sqrt(df['Northing'])\n",
    "    df['Alpha'] = np.arctan(df['Northing'] / df['Easting'])\n",
    "    df['Is_Reflectance_round'] = (df['Reflectance'] % 10 == 0)\n",
    "    \n",
    "    return df"
   ]
  },
  {
   "cell_type": "code",
   "execution_count": 15,
   "metadata": {},
   "outputs": [],
   "source": [
    "# Добавление новых признаков\n",
    "target = data_train['Class']\n",
    "data_train = data_train.drop('Class', axis=1)\n",
    "data_train = feature_engineering(data_train)"
   ]
  },
  {
   "cell_type": "markdown",
   "metadata": {},
   "source": [
    "## Построение модели"
   ]
  },
  {
   "cell_type": "code",
   "execution_count": 16,
   "metadata": {},
   "outputs": [],
   "source": [
    "X = data_train.values\n",
    "y = target.values\n",
    "X_train, X_test, y_train, y_test = train_test_split(X, y, test_size=0.3, stratify=y, random_state=42)"
   ]
  },
  {
   "cell_type": "code",
   "execution_count": 17,
   "metadata": {},
   "outputs": [
    {
     "name": "stdout",
     "output_type": "stream",
     "text": [
      "Recall score 0.9707851314265833\n"
     ]
    }
   ],
   "source": [
    "# CatBoostClassifier\n",
    "classes = np.unique(y_train)\n",
    "weights = compute_class_weight(class_weight='balanced', classes=classes, y=y_train)\n",
    "class_weights = dict(zip(classes, weights))\n",
    "\n",
    "model_catboost =  CatBoostClassifier(class_weights=class_weights)\n",
    "model_catboost.fit(X_train, y_train, verbose=False, plot=False)\n",
    "pred_catboost = model_catboost.predict(X_test)\n",
    "result = recall_score(y_test, pred_catboost, average='macro', zero_division=True)\n",
    "\n",
    "print(\"Recall score\",result) "
   ]
  },
  {
   "cell_type": "code",
   "execution_count": 18,
   "metadata": {},
   "outputs": [
    {
     "name": "stdout",
     "output_type": "stream",
     "text": [
      "Recall score 0.9627625764846283\n"
     ]
    }
   ],
   "source": [
    "# RandomForestClassifier\n",
    "rf_model = RandomForestClassifier(n_jobs=-1, max_depth=100)\n",
    "rf_model.fit(X_train, y_train)\n",
    "pred_forest = rf_model.predict(X_test)\n",
    "result = recall_score(y_test, pred_forest, average='macro', zero_division=True)\n",
    "\n",
    "print(\"Recall score\",result) "
   ]
  },
  {
   "cell_type": "code",
   "execution_count": 19,
   "metadata": {},
   "outputs": [
    {
     "name": "stdout",
     "output_type": "stream",
     "text": [
      "Recall score 0.96239742813658\n"
     ]
    }
   ],
   "source": [
    "# XGBClassifier\n",
    "y_train_code = list(map(lambda x: 2 if x==64 else x, y_train))\n",
    "model =  XGBClassifier(reg_alpha=0.05, reg_lambda=0.05, n_jobs=-1)\n",
    "model.fit(X_train, y_train_code)\n",
    "pred_xgb = model.predict(X_test)\n",
    "pred_xgb = list(map(lambda x: 64 if x==2 else x, pred_xgb))\n",
    "result = recall_score(y_test, pred_xgb, average='macro', zero_division=True)\n",
    "\n",
    "print(\"Recall score\",result) "
   ]
  },
  {
   "cell_type": "code",
   "execution_count": 20,
   "metadata": {},
   "outputs": [
    {
     "name": "stdout",
     "output_type": "stream",
     "text": [
      "Recall score 0.912668518504763\n"
     ]
    }
   ],
   "source": [
    "# KNeighborsClassifier\n",
    "model = KNeighborsClassifier(n_neighbors=4, n_jobs=-1, weights='distance')\n",
    "model.fit(X_train, y_train)\n",
    "pred_kneigh = model.predict(X_test)\n",
    "result = recall_score(y_test, pred_kneigh, average='macro', zero_division=True)\n",
    "\n",
    "print(\"Recall score\",result) "
   ]
  },
  {
   "cell_type": "code",
   "execution_count": 21,
   "metadata": {},
   "outputs": [
    {
     "name": "stdout",
     "output_type": "stream",
     "text": [
      "Recall score 0.785341769427688\n"
     ]
    }
   ],
   "source": [
    "# LogisticRegression\n",
    "scal = preprocessing.StandardScaler()\n",
    "X_train_norm = scal.fit_transform(X_train)\n",
    "X_test_norm = scal.transform(X_test)\n",
    "\n",
    "model = LogisticRegression(penalty='l2', \n",
    "                            n_jobs=-1,\n",
    "                            multi_class='multinomial',\n",
    "                            class_weight='balanced')\n",
    "model.fit(X_train_norm, y_train)\n",
    "pred_log = model.predict(X_test_norm)\n",
    "result = recall_score(y_test, pred_log, average='macro', zero_division=True)\n",
    "\n",
    "print(\"Recall score\",result) "
   ]
  },
  {
   "cell_type": "code",
   "execution_count": 22,
   "metadata": {},
   "outputs": [
    {
     "name": "stdout",
     "output_type": "stream",
     "text": [
      "Recall score 0.9740115832257553\n"
     ]
    }
   ],
   "source": [
    "# LGBMClassifier\n",
    "model =  LGBMClassifier(n_jobs=-1,\n",
    "                      objective='multiclass',\n",
    "                      class_weight=class_weights \n",
    "                      )\n",
    "model.fit(X_train, y_train)\n",
    "pred_lgbm = model.predict(X_test)\n",
    "result = recall_score(y_test, pred_lgbm, average='macro', zero_division=True)\n",
    "\n",
    "print(\"Recall score\",result) "
   ]
  },
  {
   "cell_type": "markdown",
   "metadata": {},
   "source": [
    "#### Были отобраны три лучшие модели - CatBoost, XGBoost, LightGBM. Оценка усредненных предсказаний трех моделей"
   ]
  },
  {
   "cell_type": "code",
   "execution_count": 23,
   "metadata": {},
   "outputs": [],
   "source": [
    "res = pd.DataFrame({'catboost': pred_catboost.reshape(-1),\n",
    "                    'xgb': pred_xgb,\n",
    "                    'lgbm': pred_lgbm})"
   ]
  },
  {
   "cell_type": "code",
   "execution_count": 24,
   "metadata": {},
   "outputs": [],
   "source": [
    "pred = stats.mode(res, axis=1, keepdims=False)[0]"
   ]
  },
  {
   "cell_type": "code",
   "execution_count": 25,
   "metadata": {},
   "outputs": [
    {
     "name": "stdout",
     "output_type": "stream",
     "text": [
      "Recall score 0.9730947454721655\n"
     ]
    }
   ],
   "source": [
    "# CatBoost, XGBoost, LightGBM\n",
    "result = recall_score(y_test, pred, average='macro', zero_division=True)\n",
    "\n",
    "print(\"Recall score\",result)"
   ]
  },
  {
   "cell_type": "markdown",
   "metadata": {},
   "source": [
    "## Обучение на всей выборке и предсказание на тестовой"
   ]
  },
  {
   "cell_type": "code",
   "execution_count": 26,
   "metadata": {},
   "outputs": [],
   "source": [
    "class EnsembleBoostClassifier(object):\n",
    "    \"\"\"Классификатор, реализуюший ансамблевый алгоритм,\n",
    "    основанный на трех разных реализациях градиентного бустинга:\n",
    "    CatBoost, XGBoost, LightGBM\"\"\"\n",
    "    \n",
    "    def __init__(self, class_weights=None):\n",
    "        self.catboost = CatBoostClassifier(class_weights=class_weights)\n",
    "        self.xgb = XGBClassifier(reg_alpha=0.05, reg_lambda=0.05, n_jobs=-1)\n",
    "        self.lgbm = LGBMClassifier(n_jobs=-1,\n",
    "                      objective='multiclass',\n",
    "                      class_weight=class_weights)\n",
    "    \n",
    "    def fit(self, X, y):\n",
    "        self.catboost.fit(X, y, verbose=False, plot=False)\n",
    "        self.lgbm.fit(X, y)\n",
    "        \n",
    "        self.le = preprocessing.LabelEncoder()\n",
    "        y_encode = self.le.fit_transform(y)\n",
    "        self.xgb.fit(X, y_encode)\n",
    "        \n",
    "    def predict(self, X):\n",
    "        pred_catboost = self.catboost.predict(X).reshape(-1)\n",
    "        pred_lgbm = self.lgbm.predict(X)\n",
    "        \n",
    "        pred_xgb = self.xgb.predict(X)\n",
    "        pred_xgb = self.le.inverse_transform(pred_xgb)\n",
    "        \n",
    "        pred_agg = np.transpose([pred_catboost, pred_lgbm, pred_xgb])\n",
    "        pred = stats.mode(pred_agg, axis=1, keepdims=False)[0]\n",
    "        \n",
    "        return pred"
   ]
  },
  {
   "cell_type": "code",
   "execution_count": 28,
   "metadata": {},
   "outputs": [],
   "source": [
    "# Обработка тестовой выборки\n",
    "data_test = feature_engineering(test_dataset)"
   ]
  },
  {
   "cell_type": "code",
   "execution_count": 29,
   "metadata": {},
   "outputs": [],
   "source": [
    "ensemble_clf = EnsembleBoostClassifier(class_weights=class_weights)\n",
    "ensemble_clf.fit(X, y)\n",
    "pred_test = ensemble_clf.predict(data_test.values)\n",
    "res = pd.DataFrame({'id': data_test.index, 'Class': pred_test})\n",
    "#res.to_csv('Solution_4.csv', index=False)"
   ]
  }
 ],
 "metadata": {
  "kernelspec": {
   "display_name": "Python 3",
   "language": "python",
   "name": "python3"
  },
  "language_info": {
   "codemirror_mode": {
    "name": "ipython",
    "version": 3
   },
   "file_extension": ".py",
   "mimetype": "text/x-python",
   "name": "python",
   "nbconvert_exporter": "python",
   "pygments_lexer": "ipython3",
   "version": "3.8.5"
  }
 },
 "nbformat": 4,
 "nbformat_minor": 4
}
